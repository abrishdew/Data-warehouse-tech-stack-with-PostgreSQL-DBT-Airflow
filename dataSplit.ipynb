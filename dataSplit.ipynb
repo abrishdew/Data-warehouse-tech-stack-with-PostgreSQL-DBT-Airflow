{
 "cells": [
  {
   "cell_type": "code",
   "execution_count": 1,
   "metadata": {},
   "outputs": [],
   "source": [
    "import pandas as pd\n",
    "\n",
    "vehicle_list = [] #The Constant\n",
    "combined_data = [] #The one that varies and includes a time-stamp\n",
    "\n",
    "with open('file.csv', 'r') as file:\n",
    "    lines = file.readlines()\n",
    "    for i, line in enumerate(lines):\n",
    "        # Split line into separate records and remove whitespace\n",
    "        values = [value.strip(' ') for value in line.split(';') if value]\n",
    "\n",
    "        #Extract vehicle data and trajectory data\n",
    "        vehicle_data = values[:4]\n",
    "        trajectory_data = values[4:]\n",
    "\n",
    "        # Create initial combined row\n",
    "        combined_row = [trajectory_data.pop(0)] + trajectory_data[:5]\n",
    "\n",
    "        # Append additional columns from trajectory_data (11th to 89th)\n",
    "        if len(trajectory_data) >= 79: \n",
    "            combined_row += trajectory_data[11:89]  # Append columns 11 to 89\n",
    "\n",
    "        # Append vehicle data and combined row to respective lists\n",
    "        vehicle_list.append(vehicle_data)\n",
    "        combined_data.append(combined_row)\n"
   ]
  }
 ],
 "metadata": {
  "kernelspec": {
   "display_name": "Python 3",
   "language": "python",
   "name": "python3"
  },
  "language_info": {
   "codemirror_mode": {
    "name": "ipython",
    "version": 3
   },
   "file_extension": ".py",
   "mimetype": "text/x-python",
   "name": "python",
   "nbconvert_exporter": "python",
   "pygments_lexer": "ipython3",
   "version": "3.10.12"
  }
 },
 "nbformat": 4,
 "nbformat_minor": 2
}
