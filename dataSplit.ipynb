{
 "cells": [
  {
   "cell_type": "code",
   "execution_count": 1,
   "metadata": {},
   "outputs": [],
   "source": [
    "import pandas as pd\n",
    "\n",
    "vehicle_list = []  # The Constant\n",
    "combined_data = []  # The one that varies and includes a time-stamp\n",
    "\n",
    "with open('file.csv', 'r') as file:\n",
    "    lines = file.readlines()\n",
    "    for i, line in enumerate(lines):\n",
    "        # Split line into separate records and remove whitespace\n",
    "        values = [value.strip(' ') for value in line.split(';') if value]\n",
    "\n",
    "        # Extract vehicle data and trajectory data\n",
    "        vehicle_data = values[:4]\n",
    "        trajectory_data = values[4:]\n",
    "\n",
    "        # Add the first element from vehicle_list to combined_row\n",
    "        combined_row = [vehicle_data[0]] + trajectory_data[:5]  # Add from vehicle_data\n",
    "\n",
    "        # Append additional columns from trajectory_data \n",
    "        if len(trajectory_data) >= 38:\n",
    "            combined_row += trajectory_data[11:48]  # Append columns \n",
    "\n",
    "        # Append vehicle data and combined row to respective lists\n",
    "        vehicle_list.append(vehicle_data)\n",
    "        combined_data.append(combined_row)\n",
    "\n",
    "# Create DataFrame for vehicle_list\n",
    "vehicle_df = pd.DataFrame(vehicle_list, columns=[\"track_id\", \"type\", \"traveled_d\", \"avg_speed\"])\n",
    "\n",
    "# Construct column headers for combined_data (excluding track_id)\n",
    "column_headers = [\"lat\", \"lon\", \"speed\", \"lon_acc\", \"lat_acc\", \"time\"] * 7\n",
    "\n",
    "# Create DataFrame without headers initially\n",
    "combined_df = pd.DataFrame(combined_data)\n",
    "\n",
    "# Set first column header manually\n",
    "combined_df.columns = [\"track_id\"] + list(combined_df.columns[1:])\n",
    "\n",
    "# Set remaining column headers starting from the second row\n",
    "combined_df.iloc[1:, 1:] = combined_df.iloc[1:, 1:].set_axis(column_headers, axis=1)\n"
   ]
  },
  {
   "cell_type": "code",
   "execution_count": 2,
   "metadata": {},
   "outputs": [
    {
     "name": "stdout",
     "output_type": "stream",
     "text": [
      "Vehicle Data:\n",
      "     track_id        type  traveled_d  avg_speed\n",
      "0    track_id        type  traveled_d  avg_speed\n",
      "1           1         Car       48.85   9.770344\n",
      "2           2  Motorcycle       98.09  19.839417\n",
      "3           3  Motorcycle       63.80  18.228752\n",
      "4           4  Motorcycle      145.72  26.229014\n",
      "..        ...         ...         ...        ...\n",
      "918       918         Car       78.83  30.846243\n",
      "919       919  Motorcycle       19.50   9.234518\n",
      "920       920         Car       48.97  24.486209\n",
      "921       921  Motorcycle       46.68  30.007124\n",
      "922       922         Car       35.00  23.335533\n",
      "\n",
      "[923 rows x 4 columns]\n"
     ]
    }
   ],
   "source": [
    "print(\"Vehicle Data:\")\n",
    "print(vehicle_df)"
   ]
  },
  {
   "cell_type": "code",
   "execution_count": 3,
   "metadata": {},
   "outputs": [
    {
     "name": "stdout",
     "output_type": "stream",
     "text": [
      "Combined Data:\n",
      "     track_id          1          2        3        4        5           6  \\\n",
      "0    track_id        lat        lon    speed  lon_acc  lat_acc        None   \n",
      "1           1  37.977391  23.737688   4.9178   0.0518  -0.0299    0.040000   \n",
      "2           2  37.977642  23.737400  16.9759  -0.0361  -0.0228    0.040000   \n",
      "3           3  37.977997  23.737264  20.1906  -0.0795  -0.3395    0.040000   \n",
      "4           4  37.978135  23.737072   2.7555  -0.0302   0.0948    0.040000   \n",
      "..        ...        ...        ...      ...      ...      ...         ...   \n",
      "918       918  37.980629  23.735083  38.2160   0.0372  -0.0533  809.640000   \n",
      "919       919  37.979327  23.735628   2.9344   0.0011  -0.0237  811.240000   \n",
      "920       920  37.978413  23.735528  22.8316  -0.0250  -0.0808  811.640000   \n",
      "921       921  37.980020  23.736861  32.3581  -0.0493  -0.1050  813.240000   \n",
      "922       922  37.978428  23.735538  24.1909  -0.0077  -0.0660  813.440000   \n",
      "\n",
      "             7          8        9  ...       33       34       35  \\\n",
      "0         None       None     None  ...     None     None     None   \n",
      "1    37.977391  23.737688   4.9160  ...   4.8033  -0.4320  -0.0713   \n",
      "2    37.977641  23.737404  16.9771  ...  17.0558   0.3015  -0.0435   \n",
      "3    37.977993  23.737266  20.1933  ...  20.3665   0.6637  -0.6234   \n",
      "4    37.978134  23.737072   2.7565  ...   2.8221   0.2518   0.1365   \n",
      "..         ...        ...      ...  ...      ...      ...      ...   \n",
      "918  37.980622  23.735088  38.2008  ...  38.1327  -0.1677  -0.0783   \n",
      "919  37.979327  23.735627   2.9339  ...   2.9318  -0.0051  -0.0434   \n",
      "920  37.978415  23.735532  22.8419  ...  22.8877   0.1128  -0.1167   \n",
      "921  37.980017  23.736854  32.3784  ...  32.4687   0.2224  -0.1476   \n",
      "922  37.978430  23.735544  24.1941  ...  24.2081   0.0346  -0.0944   \n",
      "\n",
      "             36         37         38       39       40       41          42  \n",
      "0          None       None       None     None     None     None        None  \n",
      "1      0.240000  37.977388  23.737690   4.7318  -0.5617  -0.0804    0.280000  \n",
      "2      0.240000  37.977640  23.737415  17.1067   0.4060  -0.0471    0.280000  \n",
      "3      0.240000  37.977984  23.737272  20.4772   0.8747  -0.6687    0.280000  \n",
      "4      0.240000  37.978133  23.737073   2.8634   0.3218   0.1397    0.280000  \n",
      "..          ...        ...        ...      ...      ...      ...         ...  \n",
      "918  809.840000  37.980606  23.735101  38.1047  -0.2117  -0.0825  809.880000  \n",
      "919  811.440000  37.979329  23.735627   2.9317   0.0035  -0.0476  811.480000  \n",
      "920  811.840000  37.978421  23.735545  22.9062   0.1384  -0.1226  811.880000  \n",
      "921  813.440000  37.980008  23.736837  32.5045   0.2626  -0.1544  813.480000  \n",
      "922  813.640000  37.978437  23.735557  24.2134   0.0376  -0.0991  813.680000  \n",
      "\n",
      "[923 rows x 43 columns]\n"
     ]
    }
   ],
   "source": [
    "print(\"Combined Data:\")\n",
    "print(combined_df)"
   ]
  },
  {
   "cell_type": "code",
   "execution_count": 36,
   "metadata": {},
   "outputs": [],
   "source": [
    "# Save vehicle_df to a CSV file\n",
    "#vehicle_df.to_csv(\"vehicle_data.csv\", index=False)  # Set index=False to omit row indices\n",
    "\n",
    "# Save combined_df to a CSV file\n",
    "#combined_df.to_csv(\"combined_data.csv\", index=False)"
   ]
  }
 ],
 "metadata": {
  "kernelspec": {
   "display_name": "Python 3",
   "language": "python",
   "name": "python3"
  },
  "language_info": {
   "codemirror_mode": {
    "name": "ipython",
    "version": 3
   },
   "file_extension": ".py",
   "mimetype": "text/x-python",
   "name": "python",
   "nbconvert_exporter": "python",
   "pygments_lexer": "ipython3",
   "version": "3.10.12"
  }
 },
 "nbformat": 4,
 "nbformat_minor": 2
}
